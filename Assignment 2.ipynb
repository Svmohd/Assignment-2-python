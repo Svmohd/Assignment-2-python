{
 "cells": [
  {
   "cell_type": "code",
   "execution_count": null,
   "id": "d8def409-b63e-4ea9-83cc-5269dff4577d",
   "metadata": {},
   "outputs": [],
   "source": [
    "#Question 1\n",
    "# def keyword is used to create a function"
   ]
  },
  {
   "cell_type": "code",
   "execution_count": 1,
   "id": "55db7cf1-ee5d-40a7-bfc3-6252e90790de",
   "metadata": {},
   "outputs": [],
   "source": [
    "l=[]\n",
    "def odd():\n",
    "    for i in range(1,26):\n",
    "        if i%2==1:\n",
    "            l.append(i)\n",
    "    return l"
   ]
  },
  {
   "cell_type": "code",
   "execution_count": 2,
   "id": "a3eface8-34cb-472b-87ef-f95caf2306b8",
   "metadata": {},
   "outputs": [
    {
     "data": {
      "text/plain": [
       "[1, 3, 5, 7, 9, 11, 13, 15, 17, 19, 21, 23, 25]"
      ]
     },
     "execution_count": 2,
     "metadata": {},
     "output_type": "execute_result"
    }
   ],
   "source": [
    "odd()"
   ]
  },
  {
   "cell_type": "code",
   "execution_count": null,
   "id": "ce70c671-b90c-4676-b9db-b24d6a2441e0",
   "metadata": {},
   "outputs": [],
   "source": [
    "#Question 2\n",
    "#The special syntax *args in function definitions in python is used to pass a variable number of arguments to a function.\n",
    "# The special syntax **kwargs in function definitions in python is used to pass a keyworded, variable-length argument list"
   ]
  },
  {
   "cell_type": "code",
   "execution_count": 3,
   "id": "3f55fdb6-61e9-4bad-b085-42e34377b24b",
   "metadata": {},
   "outputs": [],
   "source": [
    "def eg(*args):\n",
    "    return args"
   ]
  },
  {
   "cell_type": "code",
   "execution_count": 4,
   "id": "094059d8-b4b6-42c5-835d-56d937d581c1",
   "metadata": {},
   "outputs": [
    {
     "data": {
      "text/plain": [
       "([1, 2, 3], (4, 5, 6), {7, 8, 9})"
      ]
     },
     "execution_count": 4,
     "metadata": {},
     "output_type": "execute_result"
    }
   ],
   "source": [
    "eg([1,2,3],(4,5,6),{7,8,9})"
   ]
  },
  {
   "cell_type": "code",
   "execution_count": 5,
   "id": "47ad9e16-41f8-4743-847a-d56dfcd020ed",
   "metadata": {},
   "outputs": [],
   "source": [
    "def eg(**kwargs):\n",
    "    return kwargs"
   ]
  },
  {
   "cell_type": "code",
   "execution_count": 6,
   "id": "8cadbfcf-c387-4e66-993f-471b0f6f5e04",
   "metadata": {},
   "outputs": [
    {
     "data": {
      "text/plain": [
       "{'a': [1, 2, 3, 4],\n",
       " 'b': ['vlayat', 'adeeba', 'shahwar', 'alvi'],\n",
       " 'c': 'kakjshkaxk'}"
      ]
     },
     "execution_count": 6,
     "metadata": {},
     "output_type": "execute_result"
    }
   ],
   "source": [
    "eg(a=[1,2,3,4],b=['vlayat','adeeba','shahwar','alvi'],c='kakjshkaxk')"
   ]
  },
  {
   "cell_type": "code",
   "execution_count": null,
   "id": "6a26fb92-92b6-4157-b35f-6e2360c8f1e9",
   "metadata": {},
   "outputs": [],
   "source": [
    "# Question 3\n",
    "#An iterator is an object that contains a countable number of values.\n",
    "#An iterator is an object that can be iterated upon, meaning that you can traverse through all the values."
   ]
  },
  {
   "cell_type": "code",
   "execution_count": 7,
   "id": "9161d315-80f1-4e59-802a-3d153c2ea892",
   "metadata": {},
   "outputs": [],
   "source": [
    "l=[2,4,6,8,10,12,14,16,18,20]"
   ]
  },
  {
   "cell_type": "code",
   "execution_count": 8,
   "id": "db82479a-ddfa-4d01-98d3-6e4d7f31b6a8",
   "metadata": {},
   "outputs": [],
   "source": [
    "# iter() is used to initialise the iterator object\n",
    "l1=iter(l)"
   ]
  },
  {
   "cell_type": "code",
   "execution_count": 10,
   "id": "8c039c18-904d-4846-99a1-02e15a8a34f1",
   "metadata": {},
   "outputs": [
    {
     "data": {
      "text/plain": [
       "list_iterator"
      ]
     },
     "execution_count": 10,
     "metadata": {},
     "output_type": "execute_result"
    }
   ],
   "source": [
    "type(l1)"
   ]
  },
  {
   "cell_type": "code",
   "execution_count": 11,
   "id": "78976519-504a-4f88-867a-05c3e51fe770",
   "metadata": {},
   "outputs": [
    {
     "data": {
      "text/plain": [
       "2"
      ]
     },
     "execution_count": 11,
     "metadata": {},
     "output_type": "execute_result"
    }
   ],
   "source": [
    "next(l1)"
   ]
  },
  {
   "cell_type": "code",
   "execution_count": 12,
   "id": "d3773b50-113f-45f7-b902-52fc84d31bb4",
   "metadata": {},
   "outputs": [
    {
     "data": {
      "text/plain": [
       "4"
      ]
     },
     "execution_count": 12,
     "metadata": {},
     "output_type": "execute_result"
    }
   ],
   "source": [
    "next(l1)"
   ]
  },
  {
   "cell_type": "code",
   "execution_count": 13,
   "id": "9241340b-9888-468e-b5cb-a277b0ea4a6b",
   "metadata": {},
   "outputs": [
    {
     "data": {
      "text/plain": [
       "6"
      ]
     },
     "execution_count": 13,
     "metadata": {},
     "output_type": "execute_result"
    }
   ],
   "source": [
    "next(l1)"
   ]
  },
  {
   "cell_type": "code",
   "execution_count": 14,
   "id": "761dbdc8-8f55-4bc2-a93b-6ff085cba686",
   "metadata": {},
   "outputs": [
    {
     "data": {
      "text/plain": [
       "8"
      ]
     },
     "execution_count": 14,
     "metadata": {},
     "output_type": "execute_result"
    }
   ],
   "source": [
    "next(l1)"
   ]
  },
  {
   "cell_type": "code",
   "execution_count": 15,
   "id": "4db38e02-a131-47bc-98cc-b42d6ac11870",
   "metadata": {},
   "outputs": [
    {
     "data": {
      "text/plain": [
       "10"
      ]
     },
     "execution_count": 15,
     "metadata": {},
     "output_type": "execute_result"
    }
   ],
   "source": [
    "next(l1)"
   ]
  },
  {
   "cell_type": "code",
   "execution_count": 138,
   "id": "9959b1df-e9f6-4423-a60b-d873b85ce2cf",
   "metadata": {},
   "outputs": [],
   "source": [
    "# Question 4\n",
    "#In Python, a generator is a function that returns an iterator that produces a\n",
    "#sequence of values when iterated over. Generators are useful when we want to produce\n",
    "#a large sequence of values, but we don't want to store all of them in memory at once\n",
    "def count_test(n):\n",
    "    count=1\n",
    "    while count <= n:\n",
    "        yield count\n",
    "        count= count +1"
   ]
  },
  {
   "cell_type": "code",
   "execution_count": 139,
   "id": "4b7328ab-db45-40ea-84e6-bd6ec5b5e94e",
   "metadata": {},
   "outputs": [],
   "source": [
    "c= count_test(5)"
   ]
  },
  {
   "cell_type": "code",
   "execution_count": 140,
   "id": "54fa89ac-f9b7-433e-a576-bfc6352ddf16",
   "metadata": {},
   "outputs": [
    {
     "name": "stdout",
     "output_type": "stream",
     "text": [
      "1\n",
      "2\n",
      "3\n",
      "4\n",
      "5\n"
     ]
    }
   ],
   "source": [
    "for i in c :\n",
    "    print(i)"
   ]
  },
  {
   "cell_type": "code",
   "execution_count": 175,
   "id": "9f274383-fce4-4db0-a463-1b57bb1ca29a",
   "metadata": {},
   "outputs": [],
   "source": [
    "def prime1(num1):\n",
    "    \"\"\"Returns True if the number is prime\n",
    "    else False.\"\"\"\n",
    "    if num1 == 0 or num1 == 1:\n",
    "        return False\n",
    "    for x in range(2, num1):\n",
    "        if num1 % x == 0:\n",
    "            return False\n",
    "    return True\n",
    "\n",
    "def prime_list1(n):\n",
    "    for i in range(2,n):\n",
    "        if prime1(i):\n",
    "            yield i"
   ]
  },
  {
   "cell_type": "code",
   "execution_count": 176,
   "id": "5b15471d-f70c-4283-bb50-7cef05864766",
   "metadata": {},
   "outputs": [],
   "source": [
    "a=prime_list1(1000)"
   ]
  },
  {
   "cell_type": "code",
   "execution_count": 177,
   "id": "0c1bbe18-d3eb-4db7-b377-91f08f98b105",
   "metadata": {},
   "outputs": [
    {
     "data": {
      "text/plain": [
       "generator"
      ]
     },
     "execution_count": 177,
     "metadata": {},
     "output_type": "execute_result"
    }
   ],
   "source": [
    "type(a)"
   ]
  },
  {
   "cell_type": "code",
   "execution_count": 178,
   "id": "93c3f65a-9817-4ae3-8114-cacbe6cb0e5f",
   "metadata": {},
   "outputs": [
    {
     "name": "stdout",
     "output_type": "stream",
     "text": [
      "2\n",
      "3\n",
      "5\n",
      "7\n",
      "11\n",
      "13\n",
      "17\n",
      "19\n",
      "23\n",
      "29\n",
      "31\n",
      "37\n",
      "41\n",
      "43\n",
      "47\n",
      "53\n",
      "59\n",
      "61\n",
      "67\n",
      "71\n",
      "73\n",
      "79\n",
      "83\n",
      "89\n",
      "97\n",
      "101\n",
      "103\n",
      "107\n",
      "109\n",
      "113\n",
      "127\n",
      "131\n",
      "137\n",
      "139\n",
      "149\n",
      "151\n",
      "157\n",
      "163\n",
      "167\n",
      "173\n",
      "179\n",
      "181\n",
      "191\n",
      "193\n",
      "197\n",
      "199\n",
      "211\n",
      "223\n",
      "227\n",
      "229\n",
      "233\n",
      "239\n",
      "241\n",
      "251\n",
      "257\n",
      "263\n",
      "269\n",
      "271\n",
      "277\n",
      "281\n",
      "283\n",
      "293\n",
      "307\n",
      "311\n",
      "313\n",
      "317\n",
      "331\n",
      "337\n",
      "347\n",
      "349\n",
      "353\n",
      "359\n",
      "367\n",
      "373\n",
      "379\n",
      "383\n",
      "389\n",
      "397\n",
      "401\n",
      "409\n",
      "419\n",
      "421\n",
      "431\n",
      "433\n",
      "439\n",
      "443\n",
      "449\n",
      "457\n",
      "461\n",
      "463\n",
      "467\n",
      "479\n",
      "487\n",
      "491\n",
      "499\n",
      "503\n",
      "509\n",
      "521\n",
      "523\n",
      "541\n",
      "547\n",
      "557\n",
      "563\n",
      "569\n",
      "571\n",
      "577\n",
      "587\n",
      "593\n",
      "599\n",
      "601\n",
      "607\n",
      "613\n",
      "617\n",
      "619\n",
      "631\n",
      "641\n",
      "643\n",
      "647\n",
      "653\n",
      "659\n",
      "661\n",
      "673\n",
      "677\n",
      "683\n",
      "691\n",
      "701\n",
      "709\n",
      "719\n",
      "727\n",
      "733\n",
      "739\n",
      "743\n",
      "751\n",
      "757\n",
      "761\n",
      "769\n",
      "773\n",
      "787\n",
      "797\n",
      "809\n",
      "811\n",
      "821\n",
      "823\n",
      "827\n",
      "829\n",
      "839\n",
      "853\n",
      "857\n",
      "859\n",
      "863\n",
      "877\n",
      "881\n",
      "883\n",
      "887\n",
      "907\n",
      "911\n",
      "919\n",
      "929\n",
      "937\n",
      "941\n",
      "947\n",
      "953\n",
      "967\n",
      "971\n",
      "977\n",
      "983\n",
      "991\n",
      "997\n"
     ]
    },
    {
     "ename": "StopIteration",
     "evalue": "",
     "output_type": "error",
     "traceback": [
      "\u001b[0;31m---------------------------------------------------------------------------\u001b[0m",
      "\u001b[0;31mStopIteration\u001b[0m                             Traceback (most recent call last)",
      "Cell \u001b[0;32mIn[178], line 2\u001b[0m\n\u001b[1;32m      1\u001b[0m \u001b[38;5;28;01mfor\u001b[39;00m j \u001b[38;5;129;01min\u001b[39;00m \u001b[38;5;28mrange\u001b[39m(\u001b[38;5;241m1000\u001b[39m):\n\u001b[0;32m----> 2\u001b[0m     \u001b[38;5;28mprint\u001b[39m(\u001b[38;5;28;43mnext\u001b[39;49m\u001b[43m(\u001b[49m\u001b[43ma\u001b[49m\u001b[43m)\u001b[49m)\n",
      "\u001b[0;31mStopIteration\u001b[0m: "
     ]
    }
   ],
   "source": [
    "for j in range(1000):\n",
    "    print(next(a))"
   ]
  },
  {
   "cell_type": "code",
   "execution_count": 192,
   "id": "a208df2a-e0cd-46e5-9872-a9884beb2e35",
   "metadata": {},
   "outputs": [],
   "source": [
    "b=prime_list1(1000)"
   ]
  },
  {
   "cell_type": "code",
   "execution_count": 193,
   "id": "459d953a-9906-4615-af42-2a6dfe81d811",
   "metadata": {},
   "outputs": [
    {
     "name": "stdout",
     "output_type": "stream",
     "text": [
      "2\n",
      "3\n",
      "5\n",
      "7\n",
      "11\n",
      "13\n",
      "17\n",
      "19\n",
      "23\n",
      "29\n",
      "31\n",
      "37\n",
      "41\n",
      "43\n",
      "47\n",
      "53\n",
      "59\n",
      "61\n",
      "67\n",
      "71\n"
     ]
    }
   ],
   "source": [
    "c=0\n",
    "for d in b:\n",
    "    print(d)\n",
    "    c=c+1\n",
    "    if c==20:\n",
    "        break"
   ]
  },
  {
   "cell_type": "code",
   "execution_count": 219,
   "id": "071b311b-b8da-4466-8a17-44edb4c99c4e",
   "metadata": {},
   "outputs": [],
   "source": [
    "#Question 6. Write a python program to print the first 10 Fibonacci numbers using a while loop.\n",
    "\n",
    "def fibo():\n",
    "    a,b,c,i=0,1,0,0\n",
    "    while i<10:\n",
    "        print(a)\n",
    "        c=a+b\n",
    "        a=b\n",
    "        b=c\n",
    "        i=i+1\n",
    "    return "
   ]
  },
  {
   "cell_type": "code",
   "execution_count": 220,
   "id": "99d65b65-c9ae-4325-b2f3-efa68a157929",
   "metadata": {},
   "outputs": [
    {
     "name": "stdout",
     "output_type": "stream",
     "text": [
      "0\n",
      "1\n",
      "1\n",
      "2\n",
      "3\n",
      "5\n",
      "8\n",
      "13\n",
      "21\n",
      "34\n"
     ]
    }
   ],
   "source": [
    "fibo()"
   ]
  },
  {
   "cell_type": "code",
   "execution_count": 149,
   "id": "68f82b94-dc17-4a91-8dd1-62ab04b2bc7d",
   "metadata": {},
   "outputs": [
    {
     "data": {
      "text/plain": [
       "['p', 'w', 's', 'k', 'i', 'l', 'l', 's']"
      ]
     },
     "execution_count": 149,
     "metadata": {},
     "output_type": "execute_result"
    }
   ],
   "source": [
    "# Question 7 Write a List Comprehension to iterate through the given string: ‘pwskills’.\n",
    "Expected output: ['p', 'w', 's', 'k', 'i', 'l', 'l', 's']\n",
    "s='pwskills'\n",
    "l=[]\n",
    "[(s[i]) for  i in range(0,len(s))]"
   ]
  },
  {
   "cell_type": "code",
   "execution_count": 222,
   "id": "90ba4292-8503-441f-9b9f-1ec0beeef26a",
   "metadata": {},
   "outputs": [],
   "source": [
    "# Question 8 Write a python program to check whether a given number is Palindrome or not using a while loop.\n",
    "def pal():\n",
    "    p=input()\n",
    "    if p==p[::-1]:\n",
    "        print ('no is palindrome',int(p))\n",
    "    else:\n",
    "        print('no is not palindrome',int(p))\n",
    "    return int(p)"
   ]
  },
  {
   "cell_type": "code",
   "execution_count": 224,
   "id": "34476fca-bead-4cee-80d3-bb0e5a247800",
   "metadata": {},
   "outputs": [
    {
     "name": "stdin",
     "output_type": "stream",
     "text": [
      " 525\n"
     ]
    },
    {
     "name": "stdout",
     "output_type": "stream",
     "text": [
      "no is palindrome 525\n"
     ]
    },
    {
     "data": {
      "text/plain": [
       "525"
      ]
     },
     "execution_count": 224,
     "metadata": {},
     "output_type": "execute_result"
    }
   ],
   "source": [
    "pal()"
   ]
  },
  {
   "cell_type": "code",
   "execution_count": 10,
   "id": "db976dfb-6547-41ef-9f1b-71202af9135c",
   "metadata": {},
   "outputs": [
    {
     "name": "stdin",
     "output_type": "stream",
     "text": [
      " 5236\n"
     ]
    },
    {
     "name": "stdout",
     "output_type": "stream",
     "text": [
      "no is not palindrome 5236\n"
     ]
    },
    {
     "data": {
      "text/plain": [
       "5236"
      ]
     },
     "execution_count": 10,
     "metadata": {},
     "output_type": "execute_result"
    }
   ],
   "source": [
    "pal()"
   ]
  },
  {
   "cell_type": "code",
   "execution_count": 225,
   "id": "183d7e10-c065-4497-b88a-77eed9859fb2",
   "metadata": {},
   "outputs": [],
   "source": [
    "def pal():\n",
    "    num=int(input(\"Enter a number: \"))\n",
    "    temp=num\n",
    "    rev=0\n",
    "    while(num>0):\n",
    "        dig=num%10\n",
    "        rev=rev*10+dig\n",
    "        num=num//10\n",
    "    if num==0 and (temp==rev):\n",
    "        print(\"The number is palindrome!\")\n",
    "    else:\n",
    "            print(\"Not a palindrome!\")\n",
    "    return rev"
   ]
  },
  {
   "cell_type": "code",
   "execution_count": 226,
   "id": "53bc0220-3df1-41da-9291-6c44400782ff",
   "metadata": {},
   "outputs": [
    {
     "name": "stdin",
     "output_type": "stream",
     "text": [
      "Enter a number:  858\n"
     ]
    },
    {
     "name": "stdout",
     "output_type": "stream",
     "text": [
      "The number is palindrome!\n"
     ]
    },
    {
     "data": {
      "text/plain": [
       "858"
      ]
     },
     "execution_count": 226,
     "metadata": {},
     "output_type": "execute_result"
    }
   ],
   "source": [
    "pal()"
   ]
  },
  {
   "cell_type": "code",
   "execution_count": 227,
   "id": "8b5066aa-c2c4-45c9-b440-8e1b59ac6f71",
   "metadata": {},
   "outputs": [
    {
     "name": "stdin",
     "output_type": "stream",
     "text": [
      "Enter a number:  514\n"
     ]
    },
    {
     "name": "stdout",
     "output_type": "stream",
     "text": [
      "Not a palindrome!\n"
     ]
    },
    {
     "data": {
      "text/plain": [
       "415"
      ]
     },
     "execution_count": 227,
     "metadata": {},
     "output_type": "execute_result"
    }
   ],
   "source": [
    "pal()"
   ]
  },
  {
   "cell_type": "code",
   "execution_count": null,
   "id": "d8a4b8b5-b2e6-4a31-a757-b66e9c3ef2df",
   "metadata": {},
   "outputs": [],
   "source": [
    "# Question 9. Write a code to print odd numbers from 1 to 100 using list comprehension.\n"
   ]
  }
 ],
 "metadata": {
  "kernelspec": {
   "display_name": "Python 3 (ipykernel)",
   "language": "python",
   "name": "python3"
  },
  "language_info": {
   "codemirror_mode": {
    "name": "ipython",
    "version": 3
   },
   "file_extension": ".py",
   "mimetype": "text/x-python",
   "name": "python",
   "nbconvert_exporter": "python",
   "pygments_lexer": "ipython3",
   "version": "3.10.8"
  }
 },
 "nbformat": 4,
 "nbformat_minor": 5
}
